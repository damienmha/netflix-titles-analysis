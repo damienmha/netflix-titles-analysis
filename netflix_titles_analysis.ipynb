{
 "cells": [
  {
   "cell_type": "markdown",
   "id": "f33b4dc6",
   "metadata": {},
   "source": [
    "# Analysis of Netflix Titles\n",
    "\n",
    "Created by Damien Ha and Tracy Charles\n",
    "\n",
    "## Goal\n",
    "\n",
    "This project aims to analyze shows and movies available on Netflix by year.\n",
    "\n",
    "## Examining the Dataset\n",
    "\n",
    "The dataset is public on Kaggle, uploaded by Shivam Bansal, linked here: https://www.kaggle.com/datasets/shivamb/netflix-shows"
   ]
  },
  {
   "cell_type": "code",
   "execution_count": 1,
   "id": "75d4b8d3",
   "metadata": {},
   "outputs": [],
   "source": [
    "import pandas as pd\n",
    "\n",
    "df = pd.read_csv('netflix_titles.csv')"
   ]
  },
  {
   "cell_type": "code",
   "execution_count": 2,
   "id": "77d0a97a",
   "metadata": {},
   "outputs": [
    {
     "data": {
      "text/html": [
       "<div>\n",
       "<style scoped>\n",
       "    .dataframe tbody tr th:only-of-type {\n",
       "        vertical-align: middle;\n",
       "    }\n",
       "\n",
       "    .dataframe tbody tr th {\n",
       "        vertical-align: top;\n",
       "    }\n",
       "\n",
       "    .dataframe thead th {\n",
       "        text-align: right;\n",
       "    }\n",
       "</style>\n",
       "<table border=\"1\" class=\"dataframe\">\n",
       "  <thead>\n",
       "    <tr style=\"text-align: right;\">\n",
       "      <th></th>\n",
       "      <th>show_id</th>\n",
       "      <th>type</th>\n",
       "      <th>title</th>\n",
       "      <th>director</th>\n",
       "      <th>cast</th>\n",
       "      <th>country</th>\n",
       "      <th>date_added</th>\n",
       "      <th>release_year</th>\n",
       "      <th>rating</th>\n",
       "      <th>duration</th>\n",
       "      <th>listed_in</th>\n",
       "      <th>description</th>\n",
       "    </tr>\n",
       "  </thead>\n",
       "  <tbody>\n",
       "    <tr>\n",
       "      <th>0</th>\n",
       "      <td>s1</td>\n",
       "      <td>Movie</td>\n",
       "      <td>Dick Johnson Is Dead</td>\n",
       "      <td>Kirsten Johnson</td>\n",
       "      <td>NaN</td>\n",
       "      <td>United States</td>\n",
       "      <td>September 25, 2021</td>\n",
       "      <td>2020</td>\n",
       "      <td>PG-13</td>\n",
       "      <td>90 min</td>\n",
       "      <td>Documentaries</td>\n",
       "      <td>As her father nears the end of his life, filmm...</td>\n",
       "    </tr>\n",
       "    <tr>\n",
       "      <th>1</th>\n",
       "      <td>s2</td>\n",
       "      <td>TV Show</td>\n",
       "      <td>Blood &amp; Water</td>\n",
       "      <td>NaN</td>\n",
       "      <td>Ama Qamata, Khosi Ngema, Gail Mabalane, Thaban...</td>\n",
       "      <td>South Africa</td>\n",
       "      <td>September 24, 2021</td>\n",
       "      <td>2021</td>\n",
       "      <td>TV-MA</td>\n",
       "      <td>2 Seasons</td>\n",
       "      <td>International TV Shows, TV Dramas, TV Mysteries</td>\n",
       "      <td>After crossing paths at a party, a Cape Town t...</td>\n",
       "    </tr>\n",
       "    <tr>\n",
       "      <th>2</th>\n",
       "      <td>s3</td>\n",
       "      <td>TV Show</td>\n",
       "      <td>Ganglands</td>\n",
       "      <td>Julien Leclercq</td>\n",
       "      <td>Sami Bouajila, Tracy Gotoas, Samuel Jouy, Nabi...</td>\n",
       "      <td>NaN</td>\n",
       "      <td>September 24, 2021</td>\n",
       "      <td>2021</td>\n",
       "      <td>TV-MA</td>\n",
       "      <td>1 Season</td>\n",
       "      <td>Crime TV Shows, International TV Shows, TV Act...</td>\n",
       "      <td>To protect his family from a powerful drug lor...</td>\n",
       "    </tr>\n",
       "    <tr>\n",
       "      <th>3</th>\n",
       "      <td>s4</td>\n",
       "      <td>TV Show</td>\n",
       "      <td>Jailbirds New Orleans</td>\n",
       "      <td>NaN</td>\n",
       "      <td>NaN</td>\n",
       "      <td>NaN</td>\n",
       "      <td>September 24, 2021</td>\n",
       "      <td>2021</td>\n",
       "      <td>TV-MA</td>\n",
       "      <td>1 Season</td>\n",
       "      <td>Docuseries, Reality TV</td>\n",
       "      <td>Feuds, flirtations and toilet talk go down amo...</td>\n",
       "    </tr>\n",
       "    <tr>\n",
       "      <th>4</th>\n",
       "      <td>s5</td>\n",
       "      <td>TV Show</td>\n",
       "      <td>Kota Factory</td>\n",
       "      <td>NaN</td>\n",
       "      <td>Mayur More, Jitendra Kumar, Ranjan Raj, Alam K...</td>\n",
       "      <td>India</td>\n",
       "      <td>September 24, 2021</td>\n",
       "      <td>2021</td>\n",
       "      <td>TV-MA</td>\n",
       "      <td>2 Seasons</td>\n",
       "      <td>International TV Shows, Romantic TV Shows, TV ...</td>\n",
       "      <td>In a city of coaching centers known to train I...</td>\n",
       "    </tr>\n",
       "  </tbody>\n",
       "</table>\n",
       "</div>"
      ],
      "text/plain": [
       "  show_id     type                  title         director  \\\n",
       "0      s1    Movie   Dick Johnson Is Dead  Kirsten Johnson   \n",
       "1      s2  TV Show          Blood & Water              NaN   \n",
       "2      s3  TV Show              Ganglands  Julien Leclercq   \n",
       "3      s4  TV Show  Jailbirds New Orleans              NaN   \n",
       "4      s5  TV Show           Kota Factory              NaN   \n",
       "\n",
       "                                                cast        country  \\\n",
       "0                                                NaN  United States   \n",
       "1  Ama Qamata, Khosi Ngema, Gail Mabalane, Thaban...   South Africa   \n",
       "2  Sami Bouajila, Tracy Gotoas, Samuel Jouy, Nabi...            NaN   \n",
       "3                                                NaN            NaN   \n",
       "4  Mayur More, Jitendra Kumar, Ranjan Raj, Alam K...          India   \n",
       "\n",
       "           date_added  release_year rating   duration  \\\n",
       "0  September 25, 2021          2020  PG-13     90 min   \n",
       "1  September 24, 2021          2021  TV-MA  2 Seasons   \n",
       "2  September 24, 2021          2021  TV-MA   1 Season   \n",
       "3  September 24, 2021          2021  TV-MA   1 Season   \n",
       "4  September 24, 2021          2021  TV-MA  2 Seasons   \n",
       "\n",
       "                                           listed_in  \\\n",
       "0                                      Documentaries   \n",
       "1    International TV Shows, TV Dramas, TV Mysteries   \n",
       "2  Crime TV Shows, International TV Shows, TV Act...   \n",
       "3                             Docuseries, Reality TV   \n",
       "4  International TV Shows, Romantic TV Shows, TV ...   \n",
       "\n",
       "                                         description  \n",
       "0  As her father nears the end of his life, filmm...  \n",
       "1  After crossing paths at a party, a Cape Town t...  \n",
       "2  To protect his family from a powerful drug lor...  \n",
       "3  Feuds, flirtations and toilet talk go down amo...  \n",
       "4  In a city of coaching centers known to train I...  "
      ]
     },
     "execution_count": 2,
     "metadata": {},
     "output_type": "execute_result"
    }
   ],
   "source": [
    "df.head()"
   ]
  },
  {
   "cell_type": "markdown",
   "id": "0ce54764",
   "metadata": {},
   "source": [
    "Since this project focuses on the years, we can drop other columns."
   ]
  },
  {
   "cell_type": "code",
   "execution_count": 3,
   "id": "2e55531d",
   "metadata": {},
   "outputs": [
    {
     "data": {
      "text/html": [
       "<div>\n",
       "<style scoped>\n",
       "    .dataframe tbody tr th:only-of-type {\n",
       "        vertical-align: middle;\n",
       "    }\n",
       "\n",
       "    .dataframe tbody tr th {\n",
       "        vertical-align: top;\n",
       "    }\n",
       "\n",
       "    .dataframe thead th {\n",
       "        text-align: right;\n",
       "    }\n",
       "</style>\n",
       "<table border=\"1\" class=\"dataframe\">\n",
       "  <thead>\n",
       "    <tr style=\"text-align: right;\">\n",
       "      <th></th>\n",
       "      <th>type</th>\n",
       "      <th>date_added</th>\n",
       "      <th>release_year</th>\n",
       "      <th>duration</th>\n",
       "    </tr>\n",
       "  </thead>\n",
       "  <tbody>\n",
       "    <tr>\n",
       "      <th>0</th>\n",
       "      <td>Movie</td>\n",
       "      <td>September 25, 2021</td>\n",
       "      <td>2020</td>\n",
       "      <td>90 min</td>\n",
       "    </tr>\n",
       "    <tr>\n",
       "      <th>1</th>\n",
       "      <td>TV Show</td>\n",
       "      <td>September 24, 2021</td>\n",
       "      <td>2021</td>\n",
       "      <td>2 Seasons</td>\n",
       "    </tr>\n",
       "    <tr>\n",
       "      <th>2</th>\n",
       "      <td>TV Show</td>\n",
       "      <td>September 24, 2021</td>\n",
       "      <td>2021</td>\n",
       "      <td>1 Season</td>\n",
       "    </tr>\n",
       "    <tr>\n",
       "      <th>3</th>\n",
       "      <td>TV Show</td>\n",
       "      <td>September 24, 2021</td>\n",
       "      <td>2021</td>\n",
       "      <td>1 Season</td>\n",
       "    </tr>\n",
       "    <tr>\n",
       "      <th>4</th>\n",
       "      <td>TV Show</td>\n",
       "      <td>September 24, 2021</td>\n",
       "      <td>2021</td>\n",
       "      <td>2 Seasons</td>\n",
       "    </tr>\n",
       "  </tbody>\n",
       "</table>\n",
       "</div>"
      ],
      "text/plain": [
       "      type          date_added  release_year   duration\n",
       "0    Movie  September 25, 2021          2020     90 min\n",
       "1  TV Show  September 24, 2021          2021  2 Seasons\n",
       "2  TV Show  September 24, 2021          2021   1 Season\n",
       "3  TV Show  September 24, 2021          2021   1 Season\n",
       "4  TV Show  September 24, 2021          2021  2 Seasons"
      ]
     },
     "execution_count": 3,
     "metadata": {},
     "output_type": "execute_result"
    }
   ],
   "source": [
    "# drop unnecessary columns\n",
    "\n",
    "df = df.drop(['show_id', 'title', 'director', 'country', 'cast', 'rating', 'listed_in', 'description'], axis = 1)\n",
    "df.head()"
   ]
  },
  {
   "cell_type": "code",
   "execution_count": 4,
   "id": "eaa40670",
   "metadata": {},
   "outputs": [
    {
     "data": {
      "text/plain": [
       "(8807, 4)"
      ]
     },
     "execution_count": 4,
     "metadata": {},
     "output_type": "execute_result"
    }
   ],
   "source": [
    "df.shape"
   ]
  },
  {
   "cell_type": "markdown",
   "id": "5bfed0b5",
   "metadata": {},
   "source": [
    "There are 8807 rows and 4 columns."
   ]
  },
  {
   "cell_type": "code",
   "execution_count": 5,
   "id": "c4cd58e3",
   "metadata": {},
   "outputs": [
    {
     "data": {
      "text/plain": [
       "{'Movie', 'TV Show'}"
      ]
     },
     "execution_count": 5,
     "metadata": {},
     "output_type": "execute_result"
    }
   ],
   "source": [
    "# check type variable\n",
    "\n",
    "set(df['type'])"
   ]
  },
  {
   "cell_type": "code",
   "execution_count": 6,
   "id": "76937d08",
   "metadata": {},
   "outputs": [
    {
     "data": {
      "text/plain": [
       "type             0\n",
       "date_added      10\n",
       "release_year     0\n",
       "duration         3\n",
       "dtype: int64"
      ]
     },
     "execution_count": 6,
     "metadata": {},
     "output_type": "execute_result"
    }
   ],
   "source": [
    "# check for NaN values\n",
    "\n",
    "pd.isna(df).sum(axis = 0)"
   ]
  },
  {
   "cell_type": "markdown",
   "id": "06e5a326",
   "metadata": {},
   "source": [
    "Since there are few NaN values relative to the size of the data, we can proceed with the analysis."
   ]
  },
  {
   "cell_type": "markdown",
   "id": "b6333316",
   "metadata": {},
   "source": [
    "## Analyzing Data"
   ]
  },
  {
   "cell_type": "markdown",
   "id": "758e6c2c",
   "metadata": {},
   "source": [
    "**What is the number of movies and shows on Netflix?**"
   ]
  },
  {
   "cell_type": "code",
   "execution_count": 7,
   "id": "24d9af3a",
   "metadata": {},
   "outputs": [
    {
     "data": {
      "text/plain": [
       "type\n",
       "Movie      6131\n",
       "TV Show    2676\n",
       "Name: type, dtype: int64"
      ]
     },
     "execution_count": 7,
     "metadata": {},
     "output_type": "execute_result"
    }
   ],
   "source": [
    "# number of movies vs shows\n",
    "\n",
    "df.groupby('type')['type'].count()"
   ]
  },
  {
   "cell_type": "code",
   "execution_count": 8,
   "id": "ec7c8d28-c6b3-4fc5-8833-afcaf26d1b67",
   "metadata": {},
   "outputs": [
    {
     "data": {
      "image/png": "[encoded data removed]",
      "text/plain": [
       "<Figure size 432x288 with 1 Axes>"
      ]
     },
     "metadata": {},
     "output_type": "display_data"
    }
   ],
   "source": [
    "# number of shows vs movies\n",
    "import matplotlib.pyplot as plt\n",
    "\n",
    "shows_movies = df.groupby('type')['type'].count()\n",
    "plt.pie(shows_movies, labels = ['Movies', 'Shows'], colors = ['deepskyblue', 'gold'], autopct='%1.1f%%')\n",
    "plt.title('Number of Netflix Movies vs Shows')\n",
    "plt.show()"
   ]
  },
  {
   "cell_type": "markdown",
   "id": "74a6bce8",
   "metadata": {},
   "source": [
    "**What are the number shows and movies currently available on Netflix by year of addition?**\n",
    "\n",
    "We can try to map out the number of shows and movies by year of addition. We can write a function to extract the year as the following."
   ]
  },
  {
   "cell_type": "code",
   "execution_count": 9,
   "id": "50ea64cc",
   "metadata": {},
   "outputs": [],
   "source": [
    "import numpy as np\n",
    "\n",
    "def get_year(x):\n",
    "    try:\n",
    "        return x[(len(x) - 4):]\n",
    "    except:\n",
    "        return np.nan"
   ]
  },
  {
   "cell_type": "code",
   "execution_count": 10,
   "id": "5aab6dd5",
   "metadata": {},
   "outputs": [
    {
     "data": {
      "text/html": [
       "<div>\n",
       "<style scoped>\n",
       "    .dataframe tbody tr th:only-of-type {\n",
       "        vertical-align: middle;\n",
       "    }\n",
       "\n",
       "    .dataframe tbody tr th {\n",
       "        vertical-align: top;\n",
       "    }\n",
       "\n",
       "    .dataframe thead th {\n",
       "        text-align: right;\n",
       "    }\n",
       "</style>\n",
       "<table border=\"1\" class=\"dataframe\">\n",
       "  <thead>\n",
       "    <tr style=\"text-align: right;\">\n",
       "      <th></th>\n",
       "      <th>type</th>\n",
       "      <th>date_added</th>\n",
       "      <th>release_year</th>\n",
       "      <th>duration</th>\n",
       "      <th>year_added</th>\n",
       "    </tr>\n",
       "  </thead>\n",
       "  <tbody>\n",
       "    <tr>\n",
       "      <th>0</th>\n",
       "      <td>Movie</td>\n",
       "      <td>September 25, 2021</td>\n",
       "      <td>2020</td>\n",
       "      <td>90 min</td>\n",
       "      <td>2021</td>\n",
       "    </tr>\n",
       "    <tr>\n",
       "      <th>1</th>\n",
       "      <td>TV Show</td>\n",
       "      <td>September 24, 2021</td>\n",
       "      <td>2021</td>\n",
       "      <td>2 Seasons</td>\n",
       "      <td>2021</td>\n",
       "    </tr>\n",
       "    <tr>\n",
       "      <th>2</th>\n",
       "      <td>TV Show</td>\n",
       "      <td>September 24, 2021</td>\n",
       "      <td>2021</td>\n",
       "      <td>1 Season</td>\n",
       "      <td>2021</td>\n",
       "    </tr>\n",
       "    <tr>\n",
       "      <th>3</th>\n",
       "      <td>TV Show</td>\n",
       "      <td>September 24, 2021</td>\n",
       "      <td>2021</td>\n",
       "      <td>1 Season</td>\n",
       "      <td>2021</td>\n",
       "    </tr>\n",
       "    <tr>\n",
       "      <th>4</th>\n",
       "      <td>TV Show</td>\n",
       "      <td>September 24, 2021</td>\n",
       "      <td>2021</td>\n",
       "      <td>2 Seasons</td>\n",
       "      <td>2021</td>\n",
       "    </tr>\n",
       "  </tbody>\n",
       "</table>\n",
       "</div>"
      ],
      "text/plain": [
       "      type          date_added  release_year   duration year_added\n",
       "0    Movie  September 25, 2021          2020     90 min       2021\n",
       "1  TV Show  September 24, 2021          2021  2 Seasons       2021\n",
       "2  TV Show  September 24, 2021          2021   1 Season       2021\n",
       "3  TV Show  September 24, 2021          2021   1 Season       2021\n",
       "4  TV Show  September 24, 2021          2021  2 Seasons       2021"
      ]
     },
     "execution_count": 10,
     "metadata": {},
     "output_type": "execute_result"
    }
   ],
   "source": [
    "df['year_added'] = df['date_added'].apply(get_year)\n",
    "df.head()"
   ]
  },
  {
   "cell_type": "code",
   "execution_count": 11,
   "id": "ccf075e0",
   "metadata": {},
   "outputs": [
    {
     "data": {
      "text/html": [
       "<div>\n",
       "<style scoped>\n",
       "    .dataframe tbody tr th:only-of-type {\n",
       "        vertical-align: middle;\n",
       "    }\n",
       "\n",
       "    .dataframe tbody tr th {\n",
       "        vertical-align: top;\n",
       "    }\n",
       "\n",
       "    .dataframe thead th {\n",
       "        text-align: right;\n",
       "    }\n",
       "</style>\n",
       "<table border=\"1\" class=\"dataframe\">\n",
       "  <thead>\n",
       "    <tr style=\"text-align: right;\">\n",
       "      <th></th>\n",
       "      <th>type</th>\n",
       "      <th>date_added</th>\n",
       "      <th>release_year</th>\n",
       "      <th>duration</th>\n",
       "      <th>year_added</th>\n",
       "    </tr>\n",
       "  </thead>\n",
       "  <tbody>\n",
       "    <tr>\n",
       "      <th>6066</th>\n",
       "      <td>TV Show</td>\n",
       "      <td>NaN</td>\n",
       "      <td>2013</td>\n",
       "      <td>2 Seasons</td>\n",
       "      <td>NaN</td>\n",
       "    </tr>\n",
       "    <tr>\n",
       "      <th>6174</th>\n",
       "      <td>TV Show</td>\n",
       "      <td>NaN</td>\n",
       "      <td>2018</td>\n",
       "      <td>5 Seasons</td>\n",
       "      <td>NaN</td>\n",
       "    </tr>\n",
       "    <tr>\n",
       "      <th>6795</th>\n",
       "      <td>TV Show</td>\n",
       "      <td>NaN</td>\n",
       "      <td>2003</td>\n",
       "      <td>11 Seasons</td>\n",
       "      <td>NaN</td>\n",
       "    </tr>\n",
       "    <tr>\n",
       "      <th>6806</th>\n",
       "      <td>TV Show</td>\n",
       "      <td>NaN</td>\n",
       "      <td>2003</td>\n",
       "      <td>10 Seasons</td>\n",
       "      <td>NaN</td>\n",
       "    </tr>\n",
       "    <tr>\n",
       "      <th>6901</th>\n",
       "      <td>TV Show</td>\n",
       "      <td>NaN</td>\n",
       "      <td>2008</td>\n",
       "      <td>2 Seasons</td>\n",
       "      <td>NaN</td>\n",
       "    </tr>\n",
       "    <tr>\n",
       "      <th>7196</th>\n",
       "      <td>TV Show</td>\n",
       "      <td>NaN</td>\n",
       "      <td>2010</td>\n",
       "      <td>2 Seasons</td>\n",
       "      <td>NaN</td>\n",
       "    </tr>\n",
       "    <tr>\n",
       "      <th>7254</th>\n",
       "      <td>TV Show</td>\n",
       "      <td>NaN</td>\n",
       "      <td>2012</td>\n",
       "      <td>3 Seasons</td>\n",
       "      <td>NaN</td>\n",
       "    </tr>\n",
       "    <tr>\n",
       "      <th>7406</th>\n",
       "      <td>TV Show</td>\n",
       "      <td>NaN</td>\n",
       "      <td>2016</td>\n",
       "      <td>4 Seasons</td>\n",
       "      <td>NaN</td>\n",
       "    </tr>\n",
       "    <tr>\n",
       "      <th>7847</th>\n",
       "      <td>TV Show</td>\n",
       "      <td>NaN</td>\n",
       "      <td>2015</td>\n",
       "      <td>13 Seasons</td>\n",
       "      <td>NaN</td>\n",
       "    </tr>\n",
       "    <tr>\n",
       "      <th>8182</th>\n",
       "      <td>TV Show</td>\n",
       "      <td>NaN</td>\n",
       "      <td>2015</td>\n",
       "      <td>2 Seasons</td>\n",
       "      <td>NaN</td>\n",
       "    </tr>\n",
       "  </tbody>\n",
       "</table>\n",
       "</div>"
      ],
      "text/plain": [
       "         type date_added  release_year    duration year_added\n",
       "6066  TV Show        NaN          2013   2 Seasons        NaN\n",
       "6174  TV Show        NaN          2018   5 Seasons        NaN\n",
       "6795  TV Show        NaN          2003  11 Seasons        NaN\n",
       "6806  TV Show        NaN          2003  10 Seasons        NaN\n",
       "6901  TV Show        NaN          2008   2 Seasons        NaN\n",
       "7196  TV Show        NaN          2010   2 Seasons        NaN\n",
       "7254  TV Show        NaN          2012   3 Seasons        NaN\n",
       "7406  TV Show        NaN          2016   4 Seasons        NaN\n",
       "7847  TV Show        NaN          2015  13 Seasons        NaN\n",
       "8182  TV Show        NaN          2015   2 Seasons        NaN"
      ]
     },
     "execution_count": 11,
     "metadata": {},
     "output_type": "execute_result"
    }
   ],
   "source": [
    "# check the ones with NaN values on year_added\n",
    "\n",
    "df[df['year_added'].isna()]"
   ]
  },
  {
   "cell_type": "code",
   "execution_count": 12,
   "id": "e5cb7c4d",
   "metadata": {},
   "outputs": [
    {
     "data": {
      "text/plain": [
       "type     year_added\n",
       "Movie    2008             1\n",
       "         2009             2\n",
       "         2010             1\n",
       "         2011            13\n",
       "         2012             3\n",
       "         2013             6\n",
       "         2014            19\n",
       "         2015            56\n",
       "         2016           253\n",
       "         2017           839\n",
       "         2018          1237\n",
       "         2019          1424\n",
       "         2020          1284\n",
       "         2021           993\n",
       "TV Show  2008             1\n",
       "         2013             5\n",
       "         2014             5\n",
       "         2015            26\n",
       "         2016           176\n",
       "         2017           349\n",
       "         2018           412\n",
       "         2019           592\n",
       "         2020           595\n",
       "         2021           505\n",
       "Name: type, dtype: int64"
      ]
     },
     "execution_count": 12,
     "metadata": {},
     "output_type": "execute_result"
    }
   ],
   "source": [
    "# movies and shows by year_added\n",
    "\n",
    "df.groupby(['type', 'year_added'])['type'].count()\n",
    "\n",
    "# notice that the groupby series object will ignore NaN values"
   ]
  },
  {
   "cell_type": "code",
   "execution_count": 13,
   "id": "ccfbc943-22a0-4f5b-ab41-cead853001e2",
   "metadata": {},
   "outputs": [
    {
     "data": {
      "image/png": "[encoded data removed]",
      "text/plain": [
       "<Figure size 432x288 with 1 Axes>"
      ]
     },
     "metadata": {
      "needs_background": "light"
     },
     "output_type": "display_data"
    }
   ],
   "source": [
    "# barplot of shows and movies per year added\n",
    "\n",
    "df2 = df.groupby(['year_added', 'type'])['type'].count().unstack()\n",
    "df2.plot.bar(color = ['orange', 'blueviolet'])\n",
    "plt.title('Number of Movies and Shows per Year Added')\n",
    "plt.xlabel('Year Added')\n",
    "plt.ylabel('Count')\n",
    "plt.show()"
   ]
  },
  {
   "cell_type": "markdown",
   "id": "00f65d50",
   "metadata": {},
   "source": [
    "**What are the number shows and movies currently available on Netflix by year of release?**"
   ]
  },
  {
   "cell_type": "code",
   "execution_count": 14,
   "id": "6603fbee",
   "metadata": {},
   "outputs": [
    {
     "data": {
      "text/plain": [
       "type     release_year\n",
       "Movie    1942              2\n",
       "         1943              3\n",
       "         1944              3\n",
       "         1945              3\n",
       "         1946              1\n",
       "                        ... \n",
       "TV Show  2017            265\n",
       "         2018            380\n",
       "         2019            397\n",
       "         2020            436\n",
       "         2021            315\n",
       "Name: type, Length: 119, dtype: int64"
      ]
     },
     "execution_count": 14,
     "metadata": {},
     "output_type": "execute_result"
    }
   ],
   "source": [
    "# shows and movies by release_year\n",
    "\n",
    "df.groupby(['type', 'release_year'])['type'].count()"
   ]
  },
  {
   "cell_type": "code",
   "execution_count": 15,
   "id": "42478e0b-91b9-461e-bf49-7ae5473b658c",
   "metadata": {},
   "outputs": [
    {
     "data": {
      "image/png": "[encoded data removed]",
      "text/plain": [
       "<Figure size 432x288 with 1 Axes>"
      ]
     },
     "metadata": {
      "needs_background": "light"
     },
     "output_type": "display_data"
    }
   ],
   "source": [
    "# line graph of shows and movies per release year\n",
    "\n",
    "df3 = df.groupby(['release_year', 'type'])['type'].count().unstack()\n",
    "df3.plot(color = ['red', 'darkgreen'])\n",
    "plt.title('Number of Movies and Shows per Release Year')\n",
    "plt.xlabel('Release Year')\n",
    "plt.ylabel('Count')\n",
    "plt.show()"
   ]
  },
  {
   "cell_type": "markdown",
   "id": "9ee8eaca",
   "metadata": {},
   "source": [
    "**What is the average length of the movies and shows on Netflix?**\n",
    "\n",
    "Notice that the `duration` column in a string, and has two formats depending one whether it is a TV show or a movie. We can write a function and add a new column as the following."
   ]
  },
  {
   "cell_type": "code",
   "execution_count": 16,
   "id": "ae1af807",
   "metadata": {},
   "outputs": [],
   "source": [
    "def convert_duration(s):\n",
    "    try:\n",
    "        if 'Season' in s:\n",
    "            if 'Seasons' in s:\n",
    "                    return int(s[:2:])\n",
    "            return 1\n",
    "        return int(s[:(len(s) - 4):])\n",
    "    except:\n",
    "        return np.nan"
   ]
  },
  {
   "cell_type": "code",
   "execution_count": 17,
   "id": "eef8bd40",
   "metadata": {},
   "outputs": [],
   "source": [
    "df['converted_duration'] = df['duration'].apply(convert_duration)"
   ]
  },
  {
   "cell_type": "code",
   "execution_count": 18,
   "id": "58311d73",
   "metadata": {},
   "outputs": [
    {
     "data": {
      "text/plain": [
       "type\n",
       "Movie      99.577187\n",
       "TV Show     1.764948\n",
       "Name: converted_duration, dtype: float64"
      ]
     },
     "execution_count": 18,
     "metadata": {},
     "output_type": "execute_result"
    }
   ],
   "source": [
    "# average length by type: min for Movie, season for TV Show\n",
    "\n",
    "df.groupby(['type'])['converted_duration'].mean()"
   ]
  },
  {
   "cell_type": "markdown",
   "id": "b66cc8c0",
   "metadata": {},
   "source": [
    "Hence, the average length of a movie is ~99.58 minutes and that of a TV show is 1.76 seasons.\n",
    "\n",
    "**Note**: In the analysis in this article, we ignored NaN values that we cannot manually replace. Therefore, the results might not be completely reflective of the actual numbers on Netflix."
   ]
  }
 ],
 "metadata": {
  "kernelspec": {
   "display_name": "Python 3 (ipykernel)",
   "language": "python",
   "name": "python3"
  },
  "language_info": {
   "codemirror_mode": {
    "name": "ipython",
    "version": 3
   },
   "file_extension": ".py",
   "mimetype": "text/x-python",
   "name": "python",
   "nbconvert_exporter": "python",
   "pygments_lexer": "ipython3",
   "version": "3.8.12"
  }
 },
 "nbformat": 4,
 "nbformat_minor": 5
}
